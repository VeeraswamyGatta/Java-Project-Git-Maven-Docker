{
  "nbformat": 4,
  "nbformat_minor": 0,
  "metadata": {
    "colab": {
      "name": "Python_Basic_Examples.ipynb",
      "provenance": [],
      "authorship_tag": "ABX9TyOw2PYxDK7SDn7pD+LUmbPg",
      "include_colab_link": true
    },
    "kernelspec": {
      "name": "python3",
      "display_name": "Python 3"
    },
    "language_info": {
      "name": "python"
    }
  },
  "cells": [
    {
      "cell_type": "markdown",
      "metadata": {
        "id": "view-in-github",
        "colab_type": "text"
      },
      "source": [
        "<a href=\"https://colab.research.google.com/github/veeraswamy87/Java-Project-Git-Maven-Docker/blob/master/Python_Basic_Examples.ipynb\" target=\"_parent\"><img src=\"https://colab.research.google.com/assets/colab-badge.svg\" alt=\"Open In Colab\"/></a>"
      ]
    },
    {
      "cell_type": "markdown",
      "source": [
        "Concat Two Tuples"
      ],
      "metadata": {
        "id": "xRTt3cN_tlJL"
      }
    },
    {
      "cell_type": "code",
      "execution_count": 8,
      "metadata": {
        "id": "QBG1-XQns7wv"
      },
      "outputs": [],
      "source": [
        "tup1 = (\"Veeraswamy\", 2 ,True)"
      ]
    },
    {
      "cell_type": "code",
      "source": [
        "tup2 = (\"Gatta\", 3 ,False)"
      ],
      "metadata": {
        "id": "4WrCb62KtM7R"
      },
      "execution_count": 6,
      "outputs": []
    },
    {
      "cell_type": "code",
      "source": [
        "tup1 + tup2"
      ],
      "metadata": {
        "colab": {
          "base_uri": "https://localhost:8080/"
        },
        "id": "B47lsH8ytSqu",
        "outputId": "9a8b903d-17bc-44c6-fc1a-570879d23933"
      },
      "execution_count": 9,
      "outputs": [
        {
          "output_type": "execute_result",
          "data": {
            "text/plain": [
              "('Veeraswamy', 2, True, 'Gatta', 3, False)"
            ]
          },
          "metadata": {},
          "execution_count": 9
        }
      ]
    }
  ]
}